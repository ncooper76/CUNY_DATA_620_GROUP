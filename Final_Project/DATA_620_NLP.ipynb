{
 "cells": [
  {
   "cell_type": "code",
   "execution_count": 1,
   "metadata": {},
   "outputs": [],
   "source": [
    "from bs4 import BeautifulSoup \n",
    "import re\n",
    "import urllib \n",
    "import requests\n",
    "import string\n",
    "import pandas as pd"
   ]
  },
  {
   "cell_type": "code",
   "execution_count": 16,
   "metadata": {},
   "outputs": [
    {
     "name": "stdout",
     "output_type": "stream",
     "text": [
      "['1st and 1st', 'Anti-dentite', 'Babka', '\"Baby\"', 'Bad breaker-upper', 'Baldist', 'Boys', 'Bottle Wipe', '\"Cantstandya!\"', '\"Cartwright!\"', 'Close talker', 'Coffee Table Book About Coffee Tables', 'Conjugal visit sex', 'Costanza Leave Behind', 'Coup de toe', 'Delicate Genius', 'Double-dipper', 'Dry heave set to music', 'Even Steven', 'Festivus', 'Fugitive sex', '“Get Out!”', 'Getting upset', '\"Giddyup!\"', '\"Go!\"', 'Gore-Tex', 'Hand sandwich', '\"Happy, Pappy?\"', '\"Hello!\"', '\"Hello, Newman\"', '\"Hello, Vargas\"', 'High talker', '\"Hipster doofus\"', '\"Hoochie Mama!\"', 'The Human Fund: Money For People', '\"I am aware\"', '\"I was in the pool!\"', 'In the vault', '\"It\\'s not you, it\\'s me\"', '\"John-John\"', 'Kavorka', 'Kibosh ', 'Laughing and Lying', 'Low talker', '\"Lupus?! Is it Lupus?!\"', 'Make-up sex', 'Manssiere/Bro', 'Man hands', 'Master of my domain', '\"Maybe the dingo ate your baby!\"', 'Mimbo', 'Moops', 'Mulva', '\"Newman!\"', '\"No soup for you!\"', '\"Not that there\\'s anything wrong with that\"', '\"Oh, Moses, smell the roses!\"', '\"Oh, the humanity!\"', '\"Pretty big matzo ball\"', 'Pop-in', \"Poppie's a little sloppy\", 'Poor little Pinkus ', 'Queen of the castle', 'Re-gift/re-gifter', 'Ribbon Bully', 'Schmoopie', '\"Serenity now!\"', '\"Seinfeld, you magnificent bastard!\"', 'Sexual camel', 'Shiksappeal', 'Shrinkage', 'Slip one past the goalie', 'Soup Nazi', '\"So who\\'s having sex with the hen?\"', 'Spongeworthy', 'Stopping short', '\"Sweet Fancy Moses!!\"', '\"That\\'ll be ... five ... ten ... minutes\"', '\"That\\'s a shame\"', '\"That\\'s gold, Jerry! Gold!\"', 'The belt-less trenchcoat', '\"The jerk store called: they\\'re running out of you!\"', 'The jimmy leg', 'The move', 'The old switcheroo', 'The tap', 'The twirl', 'Toe thumbs', '\"These pretzels are making me thirsty!\"', '\"They just ... write it off!\"', '\"They\\'re real, and they\\'re spectacular!\" ', 'To name name(s)', 'Trifecta', 'Two-face', 'Urban Sombrero', '\"Vargas!\"', '\"Vile weed!\" ', 'Walk-and-talk', '\"Who is this?\"', 'Worlds Theory', '\"Yada yada yada\"', '\"You are so good looking\"', '\"You can stuff your sorries in a sack!\"', '\"You gotta see the baby!\"', '\"You mean the panties your mother laid out for you?\"', '\"You tell that son of a bitch that no Yankee is ever coming to Houston, not as long as you bastards are running things!\"', 'Yo-Yo Ma!']\n"
     ]
    }
   ],
   "source": [
    "url = 'http://seinfeld.wikia.com/wiki/List_of_Seinfeld_sayings'\n",
    "\n",
    "source_code = requests.get(url)\n",
    "html = source_code.text\n",
    "#print(html)\n",
    "\n",
    "catch_phrases = re.findall(r'<b>(.*?)</b>', html)\n",
    "\n",
    "clean_phrases = []\n",
    "for phrase in catch_phrases:\n",
    "    clean_phrases.append(re.sub(r'<.*?>', '', phrase))\n",
    "print(clean_phrases)"
   ]
  },
  {
   "cell_type": "code",
   "execution_count": null,
   "metadata": {},
   "outputs": [],
   "source": []
  }
 ],
 "metadata": {
  "kernelspec": {
   "display_name": "Python 3",
   "language": "python",
   "name": "python3"
  },
  "language_info": {
   "codemirror_mode": {
    "name": "ipython",
    "version": 3
   },
   "file_extension": ".py",
   "mimetype": "text/x-python",
   "name": "python",
   "nbconvert_exporter": "python",
   "pygments_lexer": "ipython3",
   "version": "3.6.5"
  }
 },
 "nbformat": 4,
 "nbformat_minor": 2
}
